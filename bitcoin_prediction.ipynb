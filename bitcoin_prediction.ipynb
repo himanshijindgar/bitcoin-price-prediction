{
  "nbformat": 4,
  "nbformat_minor": 0,
  "metadata": {
    "colab": {
      "name": "bitcoin_prediction.ipynb",
      "provenance": []
    },
    "kernelspec": {
      "name": "python3",
      "display_name": "Python 3"
    }
  },
  "cells": [
    {
      "cell_type": "markdown",
      "metadata": {
        "id": "DDUlatNTAnGd"
      },
      "source": [
        "importing libraries: Numpy, Pandas, and Matplotlib"
      ]
    },
    {
      "cell_type": "code",
      "metadata": {
        "id": "NStmqLm0ASWN"
      },
      "source": [
        "import numpy as np\n",
        "import pandas as pd\n",
        "import matplotlib.pyplot as plt"
      ],
      "execution_count": null,
      "outputs": []
    },
    {
      "cell_type": "markdown",
      "metadata": {
        "id": "BaFc-8wTAtyK"
      },
      "source": [
        "Data collection"
      ]
    },
    {
      "cell_type": "code",
      "metadata": {
        "id": "FyACHlEZAzpp"
      },
      "source": [
        "df = pd.read_csv('https://raw.githubusercontent.com/WidhyaOrg/datasets/master/bitcoin_dataset.csv')"
      ],
      "execution_count": null,
      "outputs": []
    },
    {
      "cell_type": "code",
      "metadata": {
        "colab": {
          "base_uri": "https://localhost:8080/"
        },
        "id": "TMn-gMkjn7xA",
        "outputId": "fbe07a27-100e-4e0b-f567-fcb8c2659416"
      },
      "source": [
        "import datetime as dt\r\n",
        "df['Date'] = pd.to_datetime(df['Date'])\r\n",
        "df['Date']=df['Date'].map(dt.datetime.toordinal)\r\n",
        "print(df.dtypes)"
      ],
      "execution_count": null,
      "outputs": [
        {
          "output_type": "stream",
          "text": [
            "Date                                                     int64\n",
            "btc_market_price                                       float64\n",
            "btc_total_bitcoins                                     float64\n",
            "btc_market_cap                                         float64\n",
            "btc_trade_volume                                       float64\n",
            "btc_blocks_size                                        float64\n",
            "btc_avg_block_size                                     float64\n",
            "btc_n_orphaned_blocks                                    int64\n",
            "btc_n_transactions_per_block                           float64\n",
            "btc_median_confirmation_time                           float64\n",
            "btc_hash_rate                                          float64\n",
            "btc_difficulty                                         float64\n",
            "btc_miners_revenue                                     float64\n",
            "btc_transaction_fees                                   float64\n",
            "btc_cost_per_transaction_percent                       float64\n",
            "btc_cost_per_transaction                               float64\n",
            "btc_n_unique_addresses                                   int64\n",
            "btc_n_transactions                                       int64\n",
            "btc_n_transactions_total                                 int64\n",
            "btc_n_transactions_excluding_popular                     int64\n",
            "btc_n_transactions_excluding_chains_longer_than_100      int64\n",
            "btc_output_volume                                      float64\n",
            "btc_estimated_transaction_volume                       float64\n",
            "btc_estimated_transaction_volume_usd                   float64\n",
            "dtype: object\n"
          ],
          "name": "stdout"
        }
      ]
    },
    {
      "cell_type": "code",
      "metadata": {
        "colab": {
          "base_uri": "https://localhost:8080/",
          "height": 217
        },
        "id": "xZL94XQNBC0e",
        "outputId": "65e3a843-783b-4e26-cccc-7dd37dcca49b"
      },
      "source": [
        "df.head()"
      ],
      "execution_count": null,
      "outputs": [
        {
          "output_type": "execute_result",
          "data": {
            "text/html": [
              "<div>\n",
              "<style scoped>\n",
              "    .dataframe tbody tr th:only-of-type {\n",
              "        vertical-align: middle;\n",
              "    }\n",
              "\n",
              "    .dataframe tbody tr th {\n",
              "        vertical-align: top;\n",
              "    }\n",
              "\n",
              "    .dataframe thead th {\n",
              "        text-align: right;\n",
              "    }\n",
              "</style>\n",
              "<table border=\"1\" class=\"dataframe\">\n",
              "  <thead>\n",
              "    <tr style=\"text-align: right;\">\n",
              "      <th></th>\n",
              "      <th>Date</th>\n",
              "      <th>btc_market_price</th>\n",
              "      <th>btc_total_bitcoins</th>\n",
              "      <th>btc_market_cap</th>\n",
              "      <th>btc_trade_volume</th>\n",
              "      <th>btc_blocks_size</th>\n",
              "      <th>btc_avg_block_size</th>\n",
              "      <th>btc_n_orphaned_blocks</th>\n",
              "      <th>btc_n_transactions_per_block</th>\n",
              "      <th>btc_median_confirmation_time</th>\n",
              "      <th>btc_hash_rate</th>\n",
              "      <th>btc_difficulty</th>\n",
              "      <th>btc_miners_revenue</th>\n",
              "      <th>btc_transaction_fees</th>\n",
              "      <th>btc_cost_per_transaction_percent</th>\n",
              "      <th>btc_cost_per_transaction</th>\n",
              "      <th>btc_n_unique_addresses</th>\n",
              "      <th>btc_n_transactions</th>\n",
              "      <th>btc_n_transactions_total</th>\n",
              "      <th>btc_n_transactions_excluding_popular</th>\n",
              "      <th>btc_n_transactions_excluding_chains_longer_than_100</th>\n",
              "      <th>btc_output_volume</th>\n",
              "      <th>btc_estimated_transaction_volume</th>\n",
              "      <th>btc_estimated_transaction_volume_usd</th>\n",
              "    </tr>\n",
              "  </thead>\n",
              "  <tbody>\n",
              "    <tr>\n",
              "      <th>0</th>\n",
              "      <td>733820</td>\n",
              "      <td>0.0</td>\n",
              "      <td>2043200.0</td>\n",
              "      <td>0.0</td>\n",
              "      <td>0.0</td>\n",
              "      <td>0.0</td>\n",
              "      <td>0.000235</td>\n",
              "      <td>0</td>\n",
              "      <td>1.0</td>\n",
              "      <td>0.0</td>\n",
              "      <td>0.000029</td>\n",
              "      <td>2.527738</td>\n",
              "      <td>0.0</td>\n",
              "      <td>0.0</td>\n",
              "      <td>31.781022</td>\n",
              "      <td>0.0</td>\n",
              "      <td>241</td>\n",
              "      <td>244</td>\n",
              "      <td>41240</td>\n",
              "      <td>244</td>\n",
              "      <td>244</td>\n",
              "      <td>65173.13</td>\n",
              "      <td>36500.0</td>\n",
              "      <td>0.0</td>\n",
              "    </tr>\n",
              "    <tr>\n",
              "      <th>1</th>\n",
              "      <td>733821</td>\n",
              "      <td>0.0</td>\n",
              "      <td>2054650.0</td>\n",
              "      <td>0.0</td>\n",
              "      <td>0.0</td>\n",
              "      <td>0.0</td>\n",
              "      <td>0.000241</td>\n",
              "      <td>0</td>\n",
              "      <td>1.0</td>\n",
              "      <td>0.0</td>\n",
              "      <td>0.000029</td>\n",
              "      <td>2.527738</td>\n",
              "      <td>0.0</td>\n",
              "      <td>0.0</td>\n",
              "      <td>154.463801</td>\n",
              "      <td>0.0</td>\n",
              "      <td>234</td>\n",
              "      <td>235</td>\n",
              "      <td>41475</td>\n",
              "      <td>235</td>\n",
              "      <td>235</td>\n",
              "      <td>18911.74</td>\n",
              "      <td>7413.0</td>\n",
              "      <td>0.0</td>\n",
              "    </tr>\n",
              "    <tr>\n",
              "      <th>2</th>\n",
              "      <td>733822</td>\n",
              "      <td>0.0</td>\n",
              "      <td>2063600.0</td>\n",
              "      <td>0.0</td>\n",
              "      <td>0.0</td>\n",
              "      <td>0.0</td>\n",
              "      <td>0.000228</td>\n",
              "      <td>0</td>\n",
              "      <td>1.0</td>\n",
              "      <td>0.0</td>\n",
              "      <td>0.000023</td>\n",
              "      <td>2.527738</td>\n",
              "      <td>0.0</td>\n",
              "      <td>0.0</td>\n",
              "      <td>1278.516635</td>\n",
              "      <td>0.0</td>\n",
              "      <td>185</td>\n",
              "      <td>183</td>\n",
              "      <td>41658</td>\n",
              "      <td>183</td>\n",
              "      <td>183</td>\n",
              "      <td>9749.98</td>\n",
              "      <td>700.0</td>\n",
              "      <td>0.0</td>\n",
              "    </tr>\n",
              "    <tr>\n",
              "      <th>3</th>\n",
              "      <td>733823</td>\n",
              "      <td>0.0</td>\n",
              "      <td>2074700.0</td>\n",
              "      <td>0.0</td>\n",
              "      <td>0.0</td>\n",
              "      <td>0.0</td>\n",
              "      <td>0.000218</td>\n",
              "      <td>0</td>\n",
              "      <td>1.0</td>\n",
              "      <td>0.0</td>\n",
              "      <td>0.000028</td>\n",
              "      <td>2.527738</td>\n",
              "      <td>0.0</td>\n",
              "      <td>0.0</td>\n",
              "      <td>22186.687990</td>\n",
              "      <td>0.0</td>\n",
              "      <td>224</td>\n",
              "      <td>224</td>\n",
              "      <td>41882</td>\n",
              "      <td>224</td>\n",
              "      <td>224</td>\n",
              "      <td>11150.03</td>\n",
              "      <td>50.0</td>\n",
              "      <td>0.0</td>\n",
              "    </tr>\n",
              "    <tr>\n",
              "      <th>4</th>\n",
              "      <td>733824</td>\n",
              "      <td>0.0</td>\n",
              "      <td>2085400.0</td>\n",
              "      <td>0.0</td>\n",
              "      <td>0.0</td>\n",
              "      <td>0.0</td>\n",
              "      <td>0.000234</td>\n",
              "      <td>0</td>\n",
              "      <td>1.0</td>\n",
              "      <td>0.0</td>\n",
              "      <td>0.000027</td>\n",
              "      <td>2.527738</td>\n",
              "      <td>0.0</td>\n",
              "      <td>0.0</td>\n",
              "      <td>689.179876</td>\n",
              "      <td>0.0</td>\n",
              "      <td>218</td>\n",
              "      <td>218</td>\n",
              "      <td>42100</td>\n",
              "      <td>218</td>\n",
              "      <td>218</td>\n",
              "      <td>12266.83</td>\n",
              "      <td>1553.0</td>\n",
              "      <td>0.0</td>\n",
              "    </tr>\n",
              "  </tbody>\n",
              "</table>\n",
              "</div>"
            ],
            "text/plain": [
              "     Date  ...  btc_estimated_transaction_volume_usd\n",
              "0  733820  ...                                   0.0\n",
              "1  733821  ...                                   0.0\n",
              "2  733822  ...                                   0.0\n",
              "3  733823  ...                                   0.0\n",
              "4  733824  ...                                   0.0\n",
              "\n",
              "[5 rows x 24 columns]"
            ]
          },
          "metadata": {
            "tags": []
          },
          "execution_count": 4
        }
      ]
    },
    {
      "cell_type": "code",
      "metadata": {
        "colab": {
          "base_uri": "https://localhost:8080/"
        },
        "id": "BHYbsY4SBHWQ",
        "outputId": "20d4cfcb-951b-45f6-9714-ac47668e6ec5"
      },
      "source": [
        "print(df['btc_market_price'][1023])"
      ],
      "execution_count": null,
      "outputs": [
        {
          "output_type": "stream",
          "text": [
            "13.6888\n"
          ],
          "name": "stdout"
        }
      ]
    },
    {
      "cell_type": "markdown",
      "metadata": {
        "id": "_6xJsK4pD315"
      },
      "source": [
        "EDA"
      ]
    },
    {
      "cell_type": "code",
      "metadata": {
        "id": "QV0Fa1etD1t6"
      },
      "source": [
        "import seaborn as sns"
      ],
      "execution_count": null,
      "outputs": []
    },
    {
      "cell_type": "code",
      "metadata": {
        "colab": {
          "base_uri": "https://localhost:8080/",
          "height": 441
        },
        "id": "88df_3vDEKzX",
        "outputId": "28ddce59-a7d8-4a7d-b292-62486f9c1499"
      },
      "source": [
        "sns.jointplot(x = \"btc_market_price\", y = \"btc_market_cap\", data = df)\n",
        "plt.show()"
      ],
      "execution_count": null,
      "outputs": [
        {
          "output_type": "display_data",
          "data": {
            "image/png": "[encoded data removed]",
            "text/plain": [
              "<Figure size 432x432 with 3 Axes>"
            ]
          },
          "metadata": {
            "tags": [],
            "needs_background": "light"
          }
        }
      ]
    },
    {
      "cell_type": "markdown",
      "metadata": {
        "id": "fbvA4OoLGma1"
      },
      "source": [
        "Data Cleaning"
      ]
    },
    {
      "cell_type": "code",
      "metadata": {
        "colab": {
          "base_uri": "https://localhost:8080/"
        },
        "id": "VDadYm96GpR-",
        "outputId": "df0d4a1c-a804-4af0-fa6a-8944337e1f1d"
      },
      "source": [
        "df.mean(axis = 0, skipna = True) "
      ],
      "execution_count": null,
      "outputs": [
        {
          "output_type": "execute_result",
          "data": {
            "text/plain": [
              "Date                                                   7.352725e+05\n",
              "btc_market_price                                       8.391042e+02\n",
              "btc_total_bitcoins                                     1.151138e+07\n",
              "btc_market_cap                                         1.344352e+10\n",
              "btc_trade_volume                                       7.398381e+07\n",
              "btc_blocks_size                                        3.550550e+04\n",
              "btc_avg_block_size                                     3.503659e-01\n",
              "btc_n_orphaned_blocks                                  3.640743e-01\n",
              "btc_n_transactions_per_block                           6.716737e+02\n",
              "btc_median_confirmation_time                           7.501113e+00\n",
              "btc_hash_rate                                          1.244070e+06\n",
              "btc_difficulty                                         1.606360e+11\n",
              "btc_miners_revenue                                     2.184353e+06\n",
              "btc_transaction_fees                                   6.043450e+01\n",
              "btc_cost_per_transaction_percent                       6.674782e+01\n",
              "btc_cost_per_transaction                               1.463913e+01\n",
              "btc_n_unique_addresses                                 1.937861e+05\n",
              "btc_n_transactions                                     1.020811e+05\n",
              "btc_n_transactions_total                               6.844558e+07\n",
              "btc_n_transactions_excluding_popular                   9.434885e+04\n",
              "btc_n_transactions_excluding_chains_longer_than_100    6.314032e+04\n",
              "btc_output_volume                                      1.566216e+06\n",
              "btc_estimated_transaction_volume                       2.036475e+05\n",
              "btc_estimated_transaction_volume_usd                   2.024338e+08\n",
              "dtype: float64"
            ]
          },
          "metadata": {
            "tags": []
          },
          "execution_count": 8
        }
      ]
    },
    {
      "cell_type": "code",
      "metadata": {
        "id": "K6Te-GwiHh8O"
      },
      "source": [
        "df[\"btc_market_cap\"].fillna(1.344352, inplace = True)\n",
        "df[\"btc_n_transactions\"].fillna(1.020811, inplace = True)\n",
        "df[\"btc_miners_revenue\"].fillna(2.184353, inplace = True)\n",
        "df[\"btc_cost_per_transaction\"].fillna(1.463913, inplace = True)\n",
        "df[\"btc_difficulty\"].fillna(1.606360, inplace = True)\n",
        "df[\"btc_hash_rate\"].fillna(1.244070, inplace = True)\n",
        "df[\"btc_cost_per_transaction_percent\"].fillna(6.674782, inplace = True)"
      ],
      "execution_count": null,
      "outputs": []
    },
    {
      "cell_type": "markdown",
      "metadata": {
        "id": "GYkaA6hFkyn_"
      },
      "source": [
        "Model Formulation and Prediction"
      ]
    },
    {
      "cell_type": "code",
      "metadata": {
        "id": "UvRD1rVhlyB5"
      },
      "source": [
        "import sklearn.linear_model\r\n",
        "from sklearn.model_selection import train_test_split\r\n",
        "from sklearn.linear_model import LinearRegression"
      ],
      "execution_count": null,
      "outputs": []
    },
    {
      "cell_type": "code",
      "metadata": {
        "colab": {
          "base_uri": "https://localhost:8080/"
        },
        "id": "aw6h5oUymotW",
        "outputId": "518e99a6-c1c3-4c56-ea46-50b420da2282"
      },
      "source": [
        "import statsmodels.formula.api as smf\r\n",
        "model = smf.ols(formula='btc_market_price ~ btc_market_cap + btc_n_transactions + btc_miners_revenue + btc_cost_per_transaction + btc_difficulty + btc_hash_rate + btc_cost_per_transaction_percent', data=df).fit()"
      ],
      "execution_count": null,
      "outputs": [
        {
          "output_type": "stream",
          "text": [
            "/usr/local/lib/python3.6/dist-packages/statsmodels/tools/_testing.py:19: FutureWarning: pandas.util.testing is deprecated. Use the functions in the public API at pandas.testing instead.\n",
            "  import pandas.util.testing as tm\n"
          ],
          "name": "stderr"
        }
      ]
    },
    {
      "cell_type": "code",
      "metadata": {
        "colab": {
          "base_uri": "https://localhost:8080/"
        },
        "id": "L3Oiu4KHnCNS",
        "outputId": "394d8786-b993-425d-9082-82b5b504b60d"
      },
      "source": [
        "import sklearn.metrics as sm\r\n",
        "y = model.predict(df[['btc_market_cap','btc_cost_per_transaction_percent','btc_n_transactions','btc_miners_revenue','btc_cost_per_transaction','btc_difficulty','btc_hash_rate']])\r\n",
        "\r\n",
        "print(\"MSE:\", sm.mean_squared_error(y, df['btc_market_price'].values))"
      ],
      "execution_count": null,
      "outputs": [
        {
          "output_type": "stream",
          "text": [
            "MSE: 406.88786544155295\n"
          ],
          "name": "stdout"
        }
      ]
    },
    {
      "cell_type": "code",
      "metadata": {
        "colab": {
          "base_uri": "https://localhost:8080/"
        },
        "id": "Qxuaqf2oopkp",
        "outputId": "e5df5743-a915-4a22-c88a-ebadffbfea98"
      },
      "source": [
        "test = pd.read_csv('https://raw.githubusercontent.com/colaberry/data/master/Bitcoin/test_set.csv')\r\n",
        "\r\n",
        "test_predict = model.predict(test[['btc_market_cap','btc_cost_per_transaction_percent','btc_n_transactions','btc_miners_revenue','btc_cost_per_transaction','btc_difficulty','btc_hash_rate']])\r\n",
        "\r\n",
        "for i in range(0,len(test_predict)):\r\n",
        "    print(\"The price on \"+ str(i+1) +\" february is \"+ str(test_predict[i]))"
      ],
      "execution_count": null,
      "outputs": [
        {
          "output_type": "stream",
          "text": [
            "The price on 1 february is 9058.82085877089\n",
            "The price on 2 february is 8899.569160021707\n",
            "The price on 3 february is 9120.376645655017\n",
            "The price on 4 february is 8466.204855810383\n",
            "The price on 5 february is 6800.535950413565\n",
            "The price on 6 february is 7624.492849879038\n",
            "The price on 7 february is 8074.826097337471\n",
            "The price on 8 february is 8262.66323279681\n",
            "The price on 9 february is 8560.438164890766\n",
            "The price on 10 february is 8336.076378723325\n",
            "The price on 11 february is 8427.028216870633\n",
            "The price on 12 february is 8836.960444161505\n",
            "The price on 13 february is 8624.403882857277\n",
            "The price on 14 february is 9362.844466002192\n"
          ],
          "name": "stdout"
        }
      ]
    }
  ]
}